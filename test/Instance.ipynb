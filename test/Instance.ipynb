{
 "cells": [
  {
   "cell_type": "markdown",
   "id": "5d0a4872",
   "metadata": {},
   "source": [
    "# Awsnotebook\n",
    "\n",
    "Thr idea of this note\n",
    "book is for testing the scripts and don't have extra testing scripts"
   ]
  },
  {
   "cell_type": "markdown",
   "id": "4e540ca9",
   "metadata": {},
   "source": [
    "## Instance class"
   ]
  },
  {
   "cell_type": "code",
   "execution_count": 1,
   "id": "2490ed4b",
   "metadata": {},
   "outputs": [],
   "source": [
    "import sys, os\n",
    "\n",
    "#This is based on the assumption that jupyterlab is going to be launched from the aws_manager root folder\n",
    "sys.path.insert(1, os.path.join(os.path.dirname(sys.path[0]), 'src'))\n",
    "\n",
    "import Instance"
   ]
  },
  {
   "cell_type": "code",
   "execution_count": 2,
   "id": "b125e056",
   "metadata": {},
   "outputs": [],
   "source": [
    "instanceVulcanScripts = 'i-08cd712152bf41607'\n",
    "vulcanEc2 = Instance.Instance(instanceVulcanScripts)"
   ]
  },
  {
   "cell_type": "code",
   "execution_count": 3,
   "id": "45089c8e",
   "metadata": {},
   "outputs": [
    {
     "data": {
      "text/plain": [
       "'t3a.nano'"
      ]
     },
     "execution_count": 3,
     "metadata": {},
     "output_type": "execute_result"
    }
   ],
   "source": [
    "vulcanEc2.GetInstanceType()"
   ]
  },
  {
   "cell_type": "code",
   "execution_count": null,
   "id": "05c8d845-166a-4fab-9b93-2bad948591de",
   "metadata": {},
   "outputs": [],
   "source": [
    "vulcanEc2.GetInfo()"
   ]
  },
  {
   "cell_type": "code",
   "execution_count": null,
   "id": "1da4e739",
   "metadata": {},
   "outputs": [],
   "source": [
    "vulcanEc2.StartInstance()"
   ]
  },
  {
   "cell_type": "code",
   "execution_count": null,
   "id": "024a7e85",
   "metadata": {},
   "outputs": [],
   "source": [
    "vulcanEc2.GetPublicIP()\n"
   ]
  },
  {
   "cell_type": "code",
   "execution_count": 9,
   "id": "7fab565d",
   "metadata": {},
   "outputs": [
    {
     "name": "stdout",
     "output_type": "stream",
     "text": [
      "still stopping...  stopping\n",
      "still stopping...  stopping\n",
      "still stopping...  stopping\n",
      "still stopping...  stopping\n",
      "still stopping...  stopping\n",
      "still stopping...  stopped\n",
      "instance i-08cd712152bf41607 stop :)\n",
      "{'StoppingInstances': [{'CurrentState': {'Code': 64, 'Name': 'stopping'}, 'InstanceId': 'i-08cd712152bf41607', 'PreviousState': {'Code': 16, 'Name': 'running'}}], 'ResponseMetadata': {'RequestId': '762b6364-611f-41e5-9c4b-641820467421', 'HTTPStatusCode': 200, 'HTTPHeaders': {'x-amzn-requestid': '762b6364-611f-41e5-9c4b-641820467421', 'cache-control': 'no-cache, no-store', 'strict-transport-security': 'max-age=31536000; includeSubDomains', 'content-type': 'text/xml;charset=UTF-8', 'content-length': '579', 'date': 'Tue, 04 Jun 2024 17:21:42 GMT', 'server': 'AmazonEC2'}, 'RetryAttempts': 0}}\n"
     ]
    }
   ],
   "source": [
    "vulcanEc2.StopInstance()"
   ]
  },
  {
   "cell_type": "code",
   "execution_count": null,
   "id": "1e3af0ce",
   "metadata": {},
   "outputs": [],
   "source": [
    "vulcanEc2.SyncInfo()\n",
    "vulcanEc2.GetInstanceType(), vulcanEc2.GetState(), vulcanEc2.GetStateCode(), vulcanEc2.GetPublicIP()"
   ]
  }
 ],
 "metadata": {
  "kernelspec": {
   "display_name": "Python 3 (ipykernel)",
   "language": "python",
   "name": "python3"
  },
  "language_info": {
   "codemirror_mode": {
    "name": "ipython",
    "version": 3
   },
   "file_extension": ".py",
   "mimetype": "text/x-python",
   "name": "python",
   "nbconvert_exporter": "python",
   "pygments_lexer": "ipython3",
   "version": "3.10.12"
  }
 },
 "nbformat": 4,
 "nbformat_minor": 5
}
